{
  "nbformat": 4,
  "nbformat_minor": 0,
  "metadata": {
    "colab": {
      "provenance": []
    },
    "kernelspec": {
      "name": "python3",
      "display_name": "Python 3"
    },
    "language_info": {
      "name": "python"
    }
  },
  "cells": [
    {
      "cell_type": "code",
      "execution_count": 1,
      "metadata": {
        "id": "We-xI0ap5pch"
      },
      "outputs": [],
      "source": [
        "from bs4 import BeautifulSoup\n",
        "import requests\n",
        "import pandas as pd\n",
        "import numpy as np"
      ]
    },
    {
      "cell_type": "code",
      "source": [
        "pip install reportlab"
      ],
      "metadata": {
        "collapsed": true,
        "colab": {
          "base_uri": "https://localhost:8080/"
        },
        "id": "EWVjcFbUd1-3",
        "outputId": "679ea8ea-ad3c-4a3a-8a52-405cd1afc655"
      },
      "execution_count": 2,
      "outputs": [
        {
          "output_type": "stream",
          "name": "stdout",
          "text": [
            "Collecting reportlab\n",
            "  Downloading reportlab-4.2.5-py3-none-any.whl.metadata (1.5 kB)\n",
            "Requirement already satisfied: pillow>=9.0.0 in /usr/local/lib/python3.10/dist-packages (from reportlab) (11.0.0)\n",
            "Requirement already satisfied: chardet in /usr/local/lib/python3.10/dist-packages (from reportlab) (5.2.0)\n",
            "Downloading reportlab-4.2.5-py3-none-any.whl (1.9 MB)\n",
            "\u001b[2K   \u001b[90m━━━━━━━━━━━━━━━━━━━━━━━━━━━━━━━━━━━━━━━━\u001b[0m \u001b[32m1.9/1.9 MB\u001b[0m \u001b[31m22.7 MB/s\u001b[0m eta \u001b[36m0:00:00\u001b[0m\n",
            "\u001b[?25hInstalling collected packages: reportlab\n",
            "Successfully installed reportlab-4.2.5\n"
          ]
        }
      ]
    },
    {
      "cell_type": "code",
      "source": [
        "# URL of the webpage to scrape\n",
        "website_url = 'https://www.paulgraham.com/articles.html'\n",
        "\n",
        "# Fetch the webpage content\n",
        "response = requests.get(website_url)\n",
        "\n",
        "# Parse the HTML content\n",
        "soup = BeautifulSoup(response.text, 'html.parser')"
      ],
      "metadata": {
        "id": "JFEzDeAp90GB"
      },
      "execution_count": 3,
      "outputs": []
    },
    {
      "cell_type": "code",
      "source": [
        "# Display the parsed HTML content in a readable format\n",
        "# print(soup.prettify())"
      ],
      "metadata": {
        "id": "nfnOdnZk9Ix6",
        "collapsed": true
      },
      "execution_count": 5,
      "outputs": []
    },
    {
      "cell_type": "code",
      "source": [
        "# Find all table rows with 'valign' set to 'top'\n",
        "table_rows = soup.find_all('tr', {'valign': 'top'})"
      ],
      "metadata": {
        "id": "vCXKpky499EH"
      },
      "execution_count": 6,
      "outputs": []
    },
    {
      "cell_type": "code",
      "source": [
        "# Get the number of table rows found\n",
        "row_count = len(table_rows)"
      ],
      "metadata": {
        "colab": {
          "base_uri": "https://localhost:8080/"
        },
        "id": "Zz7EXFchgEbR",
        "outputId": "da972250-3ebb-4146-fd8e-3e988a597359"
      },
      "execution_count": 7,
      "outputs": [
        {
          "output_type": "execute_result",
          "data": {
            "text/plain": [
              "228"
            ]
          },
          "metadata": {},
          "execution_count": 7
        }
      ]
    },
    {
      "cell_type": "code",
      "source": [
        "# Lists to store blog titles and links\n",
        "blog_titles = []\n",
        "blog_links = []\n",
        "\n",
        "# Iterate through the table rows to extract blog titles and links\n",
        "for i in range(2, 225):\n",
        "    try:\n",
        "        # Extract the title and link from the current row\n",
        "        title = table_rows[i].find('a').text\n",
        "        blog_titles.append(title)\n",
        "        link = table_rows[i].find('a')['href']\n",
        "        blog_links.append(link)\n",
        "    except:\n",
        "        # Skip rows that cause errors\n",
        "        continue"
      ],
      "metadata": {
        "id": "HVxESuy1gMBf"
      },
      "execution_count": 8,
      "outputs": []
    },
    {
      "cell_type": "code",
      "source": [
        "# Get the lengths of the blog titles and links lists\n",
        "titles_count, links_count = len(blog_titles), len(blog_links)"
      ],
      "metadata": {
        "id": "_pFOFwrHTJTZ"
      },
      "execution_count": 9,
      "outputs": []
    },
    {
      "cell_type": "code",
      "source": [
        "# Remove the last three items from the blog titles and links lists\n",
        "del blog_titles[-3:]\n",
        "del blog_links[-3:]"
      ],
      "metadata": {
        "id": "Iq-_NSiVTkBp"
      },
      "execution_count": 10,
      "outputs": []
    },
    {
      "cell_type": "code",
      "source": [
        "# Get the updated lengths of the blog titles and links lists\n",
        "titles_count, links_count = len(blog_titles), len(blog_links)"
      ],
      "metadata": {
        "id": "FuA8hYRETkEN"
      },
      "execution_count": 11,
      "outputs": []
    },
    {
      "cell_type": "code",
      "source": [
        "titles_count, links_count"
      ],
      "metadata": {
        "colab": {
          "base_uri": "https://localhost:8080/"
        },
        "id": "W4X-CcZ_iLaV",
        "outputId": "f0f339c4-2c8b-4f01-d803-f7124024f1ed"
      },
      "execution_count": 12,
      "outputs": [
        {
          "output_type": "execute_result",
          "data": {
            "text/plain": [
              "(220, 220)"
            ]
          },
          "metadata": {},
          "execution_count": 12
        }
      ]
    },
    {
      "cell_type": "code",
      "source": [
        "# Lists to store essay content and titles\n",
        "essay_content = []\n",
        "essay_titles = []\n",
        "\n",
        "# Iterate through the blog links to fetch essay content and titles\n",
        "for link in blog_links:\n",
        "    essay_url = f\"https://www.paulgraham.com/{link}\"\n",
        "    try:\n",
        "        # Fetch the essay page\n",
        "        response = requests.get(essay_url)\n",
        "        soup = BeautifulSoup(response.content, \"html.parser\")\n",
        "\n",
        "        # Extract the essay content\n",
        "        content_rows = soup.find_all('tr', {'valign': 'top'})\n",
        "        content = content_rows[1].find('font', {'face': 'verdana', 'size': '2'}).text.replace('\\n', '').strip()\n",
        "        essay_content.append(content)\n",
        "\n",
        "        # Extract the essay title\n",
        "        title_rows = soup.find_all('tr', {'valign': 'top'})\n",
        "        img_tag = title_rows[1].find('img')\n",
        "        title = img_tag['alt'] if img_tag and 'alt' in img_tag.attrs else np.nan\n",
        "        essay_titles.append(title)\n",
        "\n",
        "    except Exception as e:\n",
        "        # Handle errors by appending NaN values\n",
        "        essay_titles.append(np.nan)\n",
        "        essay_content.append(np.nan)\n",
        "        continue"
      ],
      "metadata": {
        "id": "LIfIiSb3TkHQ"
      },
      "execution_count": 13,
      "outputs": []
    },
    {
      "cell_type": "code",
      "source": [
        "# Get the lengths of the essay content and titles lists\n",
        "content_count, titles_count = len(essay_content), len(essay_titles)\n",
        "content_count, titles_count"
      ],
      "metadata": {
        "colab": {
          "base_uri": "https://localhost:8080/"
        },
        "id": "YQ711CfbW90Z",
        "outputId": "a4a1d0ee-2968-4a33-dd8a-4dea7dd95dba"
      },
      "execution_count": 14,
      "outputs": [
        {
          "output_type": "execute_result",
          "data": {
            "text/plain": [
              "(220, 220)"
            ]
          },
          "metadata": {},
          "execution_count": 14
        }
      ]
    },
    {
      "cell_type": "code",
      "source": [
        "# Create a DataFrame to store essay details\n",
        "df = pd.DataFrame({\n",
        "    'Essay Name': blog_titles,\n",
        "    'Essay Link': blog_links,\n",
        "    'Essay Content': essay_content,\n",
        "    'Title of Essay': essay_titles\n",
        "})"
      ],
      "metadata": {
        "id": "2v3owrCBXOqr"
      },
      "execution_count": 15,
      "outputs": []
    },
    {
      "cell_type": "code",
      "source": [
        "df.sample(5)"
      ],
      "metadata": {
        "colab": {
          "base_uri": "https://localhost:8080/",
          "height": 206
        },
        "id": "u248TmwAXOtz",
        "outputId": "ee502ff2-2657-49c0-c8e6-f21d6088ecd4"
      },
      "execution_count": 16,
      "outputs": [
        {
          "output_type": "execute_result",
          "data": {
            "text/plain": [
              "                             Essay Name       Essay Link  \\\n",
              "120  What I've Learned from Hacker News  hackernews.html   \n",
              "39                         Being a Noob        noob.html   \n",
              "61                  The Ronco Principle       ronco.html   \n",
              "207                 Design and Research      desres.html   \n",
              "154             Is It Worth Being Wise?      wisdom.html   \n",
              "\n",
              "                                         Essay Content  \\\n",
              "120  February 2009Hacker News was two yearsold last...   \n",
              "39   January 2020When I was young, I thought old pe...   \n",
              "61   January 2015No one, VC or angel, has invested ...   \n",
              "207  January 2003(This article is derived from a ke...   \n",
              "154  February 2007A few days ago I finally figured ...   \n",
              "\n",
              "                         Title of Essay  \n",
              "120  What I've Learned from Hacker News  \n",
              "39                         Being a Noob  \n",
              "61                  The Ronco Principle  \n",
              "207                 Design and Research  \n",
              "154             Is It Worth Being Wise?  "
            ],
            "text/html": [
              "\n",
              "  <div id=\"df-21b4dca6-347b-4dbb-9d96-695a9175b0c7\" class=\"colab-df-container\">\n",
              "    <div>\n",
              "<style scoped>\n",
              "    .dataframe tbody tr th:only-of-type {\n",
              "        vertical-align: middle;\n",
              "    }\n",
              "\n",
              "    .dataframe tbody tr th {\n",
              "        vertical-align: top;\n",
              "    }\n",
              "\n",
              "    .dataframe thead th {\n",
              "        text-align: right;\n",
              "    }\n",
              "</style>\n",
              "<table border=\"1\" class=\"dataframe\">\n",
              "  <thead>\n",
              "    <tr style=\"text-align: right;\">\n",
              "      <th></th>\n",
              "      <th>Essay Name</th>\n",
              "      <th>Essay Link</th>\n",
              "      <th>Essay Content</th>\n",
              "      <th>Title of Essay</th>\n",
              "    </tr>\n",
              "  </thead>\n",
              "  <tbody>\n",
              "    <tr>\n",
              "      <th>120</th>\n",
              "      <td>What I've Learned from Hacker News</td>\n",
              "      <td>hackernews.html</td>\n",
              "      <td>February 2009Hacker News was two yearsold last...</td>\n",
              "      <td>What I've Learned from Hacker News</td>\n",
              "    </tr>\n",
              "    <tr>\n",
              "      <th>39</th>\n",
              "      <td>Being a Noob</td>\n",
              "      <td>noob.html</td>\n",
              "      <td>January 2020When I was young, I thought old pe...</td>\n",
              "      <td>Being a Noob</td>\n",
              "    </tr>\n",
              "    <tr>\n",
              "      <th>61</th>\n",
              "      <td>The Ronco Principle</td>\n",
              "      <td>ronco.html</td>\n",
              "      <td>January 2015No one, VC or angel, has invested ...</td>\n",
              "      <td>The Ronco Principle</td>\n",
              "    </tr>\n",
              "    <tr>\n",
              "      <th>207</th>\n",
              "      <td>Design and Research</td>\n",
              "      <td>desres.html</td>\n",
              "      <td>January 2003(This article is derived from a ke...</td>\n",
              "      <td>Design and Research</td>\n",
              "    </tr>\n",
              "    <tr>\n",
              "      <th>154</th>\n",
              "      <td>Is It Worth Being Wise?</td>\n",
              "      <td>wisdom.html</td>\n",
              "      <td>February 2007A few days ago I finally figured ...</td>\n",
              "      <td>Is It Worth Being Wise?</td>\n",
              "    </tr>\n",
              "  </tbody>\n",
              "</table>\n",
              "</div>\n",
              "    <div class=\"colab-df-buttons\">\n",
              "\n",
              "  <div class=\"colab-df-container\">\n",
              "    <button class=\"colab-df-convert\" onclick=\"convertToInteractive('df-21b4dca6-347b-4dbb-9d96-695a9175b0c7')\"\n",
              "            title=\"Convert this dataframe to an interactive table.\"\n",
              "            style=\"display:none;\">\n",
              "\n",
              "  <svg xmlns=\"http://www.w3.org/2000/svg\" height=\"24px\" viewBox=\"0 -960 960 960\">\n",
              "    <path d=\"M120-120v-720h720v720H120Zm60-500h600v-160H180v160Zm220 220h160v-160H400v160Zm0 220h160v-160H400v160ZM180-400h160v-160H180v160Zm440 0h160v-160H620v160ZM180-180h160v-160H180v160Zm440 0h160v-160H620v160Z\"/>\n",
              "  </svg>\n",
              "    </button>\n",
              "\n",
              "  <style>\n",
              "    .colab-df-container {\n",
              "      display:flex;\n",
              "      gap: 12px;\n",
              "    }\n",
              "\n",
              "    .colab-df-convert {\n",
              "      background-color: #E8F0FE;\n",
              "      border: none;\n",
              "      border-radius: 50%;\n",
              "      cursor: pointer;\n",
              "      display: none;\n",
              "      fill: #1967D2;\n",
              "      height: 32px;\n",
              "      padding: 0 0 0 0;\n",
              "      width: 32px;\n",
              "    }\n",
              "\n",
              "    .colab-df-convert:hover {\n",
              "      background-color: #E2EBFA;\n",
              "      box-shadow: 0px 1px 2px rgba(60, 64, 67, 0.3), 0px 1px 3px 1px rgba(60, 64, 67, 0.15);\n",
              "      fill: #174EA6;\n",
              "    }\n",
              "\n",
              "    .colab-df-buttons div {\n",
              "      margin-bottom: 4px;\n",
              "    }\n",
              "\n",
              "    [theme=dark] .colab-df-convert {\n",
              "      background-color: #3B4455;\n",
              "      fill: #D2E3FC;\n",
              "    }\n",
              "\n",
              "    [theme=dark] .colab-df-convert:hover {\n",
              "      background-color: #434B5C;\n",
              "      box-shadow: 0px 1px 3px 1px rgba(0, 0, 0, 0.15);\n",
              "      filter: drop-shadow(0px 1px 2px rgba(0, 0, 0, 0.3));\n",
              "      fill: #FFFFFF;\n",
              "    }\n",
              "  </style>\n",
              "\n",
              "    <script>\n",
              "      const buttonEl =\n",
              "        document.querySelector('#df-21b4dca6-347b-4dbb-9d96-695a9175b0c7 button.colab-df-convert');\n",
              "      buttonEl.style.display =\n",
              "        google.colab.kernel.accessAllowed ? 'block' : 'none';\n",
              "\n",
              "      async function convertToInteractive(key) {\n",
              "        const element = document.querySelector('#df-21b4dca6-347b-4dbb-9d96-695a9175b0c7');\n",
              "        const dataTable =\n",
              "          await google.colab.kernel.invokeFunction('convertToInteractive',\n",
              "                                                    [key], {});\n",
              "        if (!dataTable) return;\n",
              "\n",
              "        const docLinkHtml = 'Like what you see? Visit the ' +\n",
              "          '<a target=\"_blank\" href=https://colab.research.google.com/notebooks/data_table.ipynb>data table notebook</a>'\n",
              "          + ' to learn more about interactive tables.';\n",
              "        element.innerHTML = '';\n",
              "        dataTable['output_type'] = 'display_data';\n",
              "        await google.colab.output.renderOutput(dataTable, element);\n",
              "        const docLink = document.createElement('div');\n",
              "        docLink.innerHTML = docLinkHtml;\n",
              "        element.appendChild(docLink);\n",
              "      }\n",
              "    </script>\n",
              "  </div>\n",
              "\n",
              "\n",
              "<div id=\"df-f8b9cd71-8ae4-47d7-b1ad-b6862a0ea6df\">\n",
              "  <button class=\"colab-df-quickchart\" onclick=\"quickchart('df-f8b9cd71-8ae4-47d7-b1ad-b6862a0ea6df')\"\n",
              "            title=\"Suggest charts\"\n",
              "            style=\"display:none;\">\n",
              "\n",
              "<svg xmlns=\"http://www.w3.org/2000/svg\" height=\"24px\"viewBox=\"0 0 24 24\"\n",
              "     width=\"24px\">\n",
              "    <g>\n",
              "        <path d=\"M19 3H5c-1.1 0-2 .9-2 2v14c0 1.1.9 2 2 2h14c1.1 0 2-.9 2-2V5c0-1.1-.9-2-2-2zM9 17H7v-7h2v7zm4 0h-2V7h2v10zm4 0h-2v-4h2v4z\"/>\n",
              "    </g>\n",
              "</svg>\n",
              "  </button>\n",
              "\n",
              "<style>\n",
              "  .colab-df-quickchart {\n",
              "      --bg-color: #E8F0FE;\n",
              "      --fill-color: #1967D2;\n",
              "      --hover-bg-color: #E2EBFA;\n",
              "      --hover-fill-color: #174EA6;\n",
              "      --disabled-fill-color: #AAA;\n",
              "      --disabled-bg-color: #DDD;\n",
              "  }\n",
              "\n",
              "  [theme=dark] .colab-df-quickchart {\n",
              "      --bg-color: #3B4455;\n",
              "      --fill-color: #D2E3FC;\n",
              "      --hover-bg-color: #434B5C;\n",
              "      --hover-fill-color: #FFFFFF;\n",
              "      --disabled-bg-color: #3B4455;\n",
              "      --disabled-fill-color: #666;\n",
              "  }\n",
              "\n",
              "  .colab-df-quickchart {\n",
              "    background-color: var(--bg-color);\n",
              "    border: none;\n",
              "    border-radius: 50%;\n",
              "    cursor: pointer;\n",
              "    display: none;\n",
              "    fill: var(--fill-color);\n",
              "    height: 32px;\n",
              "    padding: 0;\n",
              "    width: 32px;\n",
              "  }\n",
              "\n",
              "  .colab-df-quickchart:hover {\n",
              "    background-color: var(--hover-bg-color);\n",
              "    box-shadow: 0 1px 2px rgba(60, 64, 67, 0.3), 0 1px 3px 1px rgba(60, 64, 67, 0.15);\n",
              "    fill: var(--button-hover-fill-color);\n",
              "  }\n",
              "\n",
              "  .colab-df-quickchart-complete:disabled,\n",
              "  .colab-df-quickchart-complete:disabled:hover {\n",
              "    background-color: var(--disabled-bg-color);\n",
              "    fill: var(--disabled-fill-color);\n",
              "    box-shadow: none;\n",
              "  }\n",
              "\n",
              "  .colab-df-spinner {\n",
              "    border: 2px solid var(--fill-color);\n",
              "    border-color: transparent;\n",
              "    border-bottom-color: var(--fill-color);\n",
              "    animation:\n",
              "      spin 1s steps(1) infinite;\n",
              "  }\n",
              "\n",
              "  @keyframes spin {\n",
              "    0% {\n",
              "      border-color: transparent;\n",
              "      border-bottom-color: var(--fill-color);\n",
              "      border-left-color: var(--fill-color);\n",
              "    }\n",
              "    20% {\n",
              "      border-color: transparent;\n",
              "      border-left-color: var(--fill-color);\n",
              "      border-top-color: var(--fill-color);\n",
              "    }\n",
              "    30% {\n",
              "      border-color: transparent;\n",
              "      border-left-color: var(--fill-color);\n",
              "      border-top-color: var(--fill-color);\n",
              "      border-right-color: var(--fill-color);\n",
              "    }\n",
              "    40% {\n",
              "      border-color: transparent;\n",
              "      border-right-color: var(--fill-color);\n",
              "      border-top-color: var(--fill-color);\n",
              "    }\n",
              "    60% {\n",
              "      border-color: transparent;\n",
              "      border-right-color: var(--fill-color);\n",
              "    }\n",
              "    80% {\n",
              "      border-color: transparent;\n",
              "      border-right-color: var(--fill-color);\n",
              "      border-bottom-color: var(--fill-color);\n",
              "    }\n",
              "    90% {\n",
              "      border-color: transparent;\n",
              "      border-bottom-color: var(--fill-color);\n",
              "    }\n",
              "  }\n",
              "</style>\n",
              "\n",
              "  <script>\n",
              "    async function quickchart(key) {\n",
              "      const quickchartButtonEl =\n",
              "        document.querySelector('#' + key + ' button');\n",
              "      quickchartButtonEl.disabled = true;  // To prevent multiple clicks.\n",
              "      quickchartButtonEl.classList.add('colab-df-spinner');\n",
              "      try {\n",
              "        const charts = await google.colab.kernel.invokeFunction(\n",
              "            'suggestCharts', [key], {});\n",
              "      } catch (error) {\n",
              "        console.error('Error during call to suggestCharts:', error);\n",
              "      }\n",
              "      quickchartButtonEl.classList.remove('colab-df-spinner');\n",
              "      quickchartButtonEl.classList.add('colab-df-quickchart-complete');\n",
              "    }\n",
              "    (() => {\n",
              "      let quickchartButtonEl =\n",
              "        document.querySelector('#df-f8b9cd71-8ae4-47d7-b1ad-b6862a0ea6df button');\n",
              "      quickchartButtonEl.style.display =\n",
              "        google.colab.kernel.accessAllowed ? 'block' : 'none';\n",
              "    })();\n",
              "  </script>\n",
              "</div>\n",
              "\n",
              "    </div>\n",
              "  </div>\n"
            ],
            "application/vnd.google.colaboratory.intrinsic+json": {
              "type": "dataframe",
              "summary": "{\n  \"name\": \"df\",\n  \"rows\": 5,\n  \"fields\": [\n    {\n      \"column\": \"Essay Name\",\n      \"properties\": {\n        \"dtype\": \"string\",\n        \"num_unique_values\": 5,\n        \"samples\": [\n          \"Being a Noob\",\n          \"Is It Worth Being Wise?\",\n          \"The Ronco Principle\"\n        ],\n        \"semantic_type\": \"\",\n        \"description\": \"\"\n      }\n    },\n    {\n      \"column\": \"Essay Link\",\n      \"properties\": {\n        \"dtype\": \"string\",\n        \"num_unique_values\": 5,\n        \"samples\": [\n          \"noob.html\",\n          \"wisdom.html\",\n          \"ronco.html\"\n        ],\n        \"semantic_type\": \"\",\n        \"description\": \"\"\n      }\n    },\n    {\n      \"column\": \"Essay Content\",\n      \"properties\": {\n        \"dtype\": \"string\",\n        \"num_unique_values\": 5,\n        \"samples\": [\n          \"January 2020When I was young, I thought old people had everything figured out.Now that I'm old, I know this isn't true.I constantly feel like a noob. It seems like I'm always talking tosome startup working in a new field I know nothing about, or readinga book about a topic I don't understand well enough, or visiting some newcountry where I don't know how things work.It's not pleasant to feel like a noob. And the word \\\"noob\\\" iscertainly not a compliment. And yet today I realized somethingencouraging about being a noob: the more of a noob you are locally,the less of a noob you are globally.For example, if you stay in your home country, you'll feel lessof a noob than if you move to Farawavia, where everything worksdifferently. And yet you'll know more if you move.So the feeling of being a noob is inversely correlated with actualignorance.But if the feeling of being a noob is good for us, why do we dislikeit? What evolutionary purpose could such an aversion serve?I think the answer is that there are two sources of feeling like anoob: being stupid, and doing something novel. Our dislike of feelinglike a noob is our brain telling us \\\"Come on, come on, figure thisout.\\\" Which was the right thing to be thinking for most of humanhistory. The life of hunter-gatherers was complex, but it didn'tchange as much as life does now. They didn't suddenly have to figureout what to do about cryptocurrency. So it made sense to be biasedtoward competence at existing problems over the discovery of newones. It made sense for humans to dislike the feeling of being anoob, just as, in a world where food was scarce, it made sense forthem to dislike the feeling of being hungry.Now that too much food is more of a problem than too little, ourdislike of feeling hungry leads us astray. And I think our dislikeof feeling like a noob does too.Though it feels unpleasant, and people will sometimes ridicule youfor it, the more you feel like a noob, the better.\",\n          \"February 2007A few days ago I finally figured out something I've wondered aboutfor 25 years: the relationship between wisdom and intelligence.Anyone can see they're not the same by the number of people who aresmart, but not very wise.  And yet intelligence and wisdom do seemrelated.  How?What is wisdom?  I'd say it's knowing what to do in a lot ofsituations.  I'm not trying to make a deep point here about thetrue nature of wisdom, just to figure out how we use the word.  Awise person is someone who usually knows the right thing to do.And yet isn't being smart also knowing what to do in certainsituations?  For example, knowing what to do when the teacher tellsyour elementary school class to add all the numbers from 1 to 100?[1]Some say wisdom and intelligence apply to different types ofproblems\\u2014wisdom to human problems and intelligence to abstractones.  But that isn't true.  Some wisdom has nothing to do withpeople: for example, the wisdom of the engineer who knows certainstructures are less prone to failure than others.  And certainlysmart people can find clever solutions to human problems as wellas abstract ones. [2]Another popular explanation is that wisdom comes from experiencewhile intelligence is innate.  But people are not simply wise inproportion to how much experience they have.  Other things mustcontribute to wisdom besides experience, and some may be innate: areflective disposition, for example.Neither of the conventional explanations of the difference betweenwisdom and intelligence stands up to scrutiny.  So what is thedifference?  If we look at how people use the words \\\"wise\\\" and\\\"smart,\\\" what they seem to mean is different shapes of performance.Curve\\\"Wise\\\" and \\\"smart\\\" are both ways of saying someone knows what todo.  The difference is that \\\"wise\\\" means one has a high averageoutcome across all situations, and \\\"smart\\\" means one does spectacularlywell in a few.  That is, if you had a graph in which the x axisrepresented situations and the y axis the outcome, the graph of thewise person would be high overall, and the graph of the smart personwould have high peaks.The distinction is similar to the rule that one should judge talentat its best and character at its worst.  Except you judge intelligenceat its best, and wisdom by its average.  That's how the two arerelated: they're the two different senses in which the same curvecan be high.So a wise person knows what to do in most situations, while a smartperson knows what to do in situations where few others could.  Weneed to add one more qualification: we should ignore cases wheresomeone knows what to do because they have inside information. [3]But aside from that, I don't think we can get much more specificwithout starting to be mistaken.Nor do we need to.  Simple as it is, this explanation predicts, orat least accords with, both of the conventional stories about thedistinction between wisdom and intelligence.  Human problems arethe most common type, so being good at solving those is key inachieving a high average outcome.   And it seems natural that ahigh average outcome depends mostly on experience, but that dramaticpeaks can only be achieved by people with certain rare, innatequalities; nearly anyone can learn to be a good swimmer, but to bean Olympic swimmer you need a certain body type.This explanation also suggests why wisdom is such an elusive concept:there's no such thing.  \\\"Wise\\\" means something\\u2014that one ison average good at making the right choice.  But giving the name\\\"wisdom\\\" to the supposed quality that enables one to do that doesn'tmean such a thing exists.  To the extent \\\"wisdom\\\" means anything,it refers to a grab-bag of qualities as various as self-discipline,experience, and empathy.  [4]Likewise, though \\\"intelligent\\\" means something, we're asking fortrouble if we insist on looking for a single thing called \\\"intelligence.\\\"And whatever its components, they're not all innate.  We use theword \\\"intelligent\\\" as an indication of ability: a smart person cangrasp things few others could.  It does seem likely there's someinborn predisposition to intelligence (and wisdom too), but thispredisposition is not itself intelligence.One reason we tend to think of intelligence as inborn is that peopletrying to measure it have concentrated on the aspects of it thatare most measurable.  A quality that's inborn will obviously bemore convenient to work with than one that's influenced by experience,and thus might vary in the course of a study.  The problem comeswhen we drag the word \\\"intelligence\\\" over onto what they're measuring.If they're measuring something inborn, they can't be measuringintelligence.  Three year olds aren't smart.   When we describe oneas smart, it's shorthand for \\\"smarter than other three year olds.\\\"SplitPerhaps it's a technicality to point out that a predisposition tointelligence is not the same as intelligence.  But it's an importanttechnicality, because it reminds us that we can become smarter,just as we can become wiser.The alarming thing is that we may have to choose between the two.If wisdom and intelligence are the average and peaks of the samecurve, then they converge as the number of points on the curvedecreases.  If there's just one point, they're identical: the averageand maximum are the same.  But as the number of points increases,wisdom and intelligence diverge.  And historically the number ofpoints on the curve seems to have been increasing: our ability istested in an ever wider range of situations.In the time of Confucius and Socrates, people seem to have regardedwisdom, learning, and intelligence as more closely related than wedo.  Distinguishing between \\\"wise\\\" and \\\"smart\\\" is a modern habit.[5]And the reason we do is that they've been diverging.  As knowledgegets more specialized, there are more points on the curve, and thedistinction between the spikes and the average becomes sharper,like a digital image rendered with more pixels.One consequence is that some old recipes may have become obsolete.At the very least we have to go back and figure out if they werereally recipes for wisdom or intelligence.  But the really strikingchange, as intelligence and wisdom drift apart, is that we may haveto decide which we prefer.  We may not be able to optimize for bothsimultaneously.Society seems to have voted for intelligence.  We no longer admirethe sage\\u2014not the way people did two thousand years ago.  Nowwe admire the genius.  Because in fact the distinction we beganwith has a rather brutal converse: just as you can be smart withoutbeing very wise, you can be wise without being very smart.  Thatdoesn't sound especially admirable.  That gets you James Bond, whoknows what to do in a lot of situations, but has to rely on Q forthe ones involving math.Intelligence and wisdom are obviously not mutually exclusive.  Infact, a high average may help support high peaks.  But there arereasons to believe that at some point you have to choose betweenthem.  One is the example of very smart people, who are so oftenunwise that in popular culture this now seems to be regarded as therule rather than the exception.  Perhaps the absent-minded professoris wise in his way, or wiser than he seems, but he's not wise inthe way Confucius or Socrates wanted people to be. [6]NewFor both Confucius and Socrates, wisdom, virtue, and happiness werenecessarily related.  The wise man was someone who knew what theright choice was and always made it; to be the right choice, it hadto be morally right; he was therefore always happy, knowing he'ddone the best he could.  I can't think of many ancient philosopherswho would have disagreed with that, so far as it goes.\\\"The superior man is always happy; the small man sad,\\\" said Confucius.[7]Whereas a few years ago I read an interview with a mathematicianwho said that most nights he went to bed discontented, feeling hehadn't made enough progress.  [8]The Chinese and Greek words wetranslate as \\\"happy\\\" didn't mean exactly what we do by it, butthere's enough overlap that this remark contradicts them.Is the mathematician a small man because he's discontented?  No;he's just doing a kind of work that wasn't very common in Confucius'sday.Human knowledge seems to grow fractally.  Time after time, somethingthat seemed a small and uninteresting area\\u2014experimental error,even\\u2014turns out, when examined up close, to have as much init as all knowledge up to that point.  Several of the fractal budsthat have exploded since ancient times involve inventing anddiscovering new things.  Math, for example, used to be something ahandful of people did part-time.  Now it's the career of thousands.And in work that involves making new things, some old rules don'tapply.Recently I've spent some time advising people, and there I find theancient rule still works: try to understand the situation as wellas you can, give the best advice you can based on your experience,and then don't worry about it, knowing you did all you could.  ButI don't have anything like this serenity when I'm writing an essay.Then I'm worried.  What if I run out of ideas?  And when I'm writing,four nights out of five I go to bed discontented, feeling I didn'tget enough done.Advising people and writing are fundamentally different types ofwork.  When people come to you with a problem and you have to figureout the right thing to do, you don't (usually) have to inventanything.  You just weigh the alternatives and try to judge whichis the prudent choice.  But prudence can't tell me what sentenceto write next.  The search space is too big.Someone like a judge or a military officer can in much of his workbe guided by duty, but duty is no guide in making things.  Makersdepend on something more precarious: inspiration.  And like mostpeople who lead a precarious existence, they tend to be worried,not contented.  In that respect they're more like the small man ofConfucius's day, always one bad harvest (or ruler) away fromstarvation. Except instead of being at the mercy of weather andofficials, they're at the mercy of their own imagination.LimitsTo me it was a relief just to realize it might be ok to be discontented.The idea that a successful person should be happy has thousands ofyears of momentum behind it.  If I was any good, why didn't I havethe easy confidence winners are supposed to have?  But that, I nowbelieve, is like a runner asking \\\"If I'm such a good athlete, whydo I feel so tired?\\\" Good runners still get tired; they just gettired at higher speeds.People whose work is to invent or discover things are in the sameposition as the runner.  There's no way for them to do the bestthey can, because there's no limit to what they could do.  Theclosest you can come is to compare yourself to other people.  Butthe better you do, the less this matters.  An undergrad who getssomething published feels like a star.  But for someone at the topof the field, what's the test of doing well?  Runners can at leastcompare themselves to others doing exactly the same thing; if youwin an Olympic gold medal, you can be fairly content, even if youthink you could have run a bit faster.  But what is a novelist todo?Whereas if you're doing the kind of work in which problems arepresented to you and you have to choose between several alternatives,there's an upper bound on your performance: choosing the best everytime.  In ancient societies, nearly all work seems to have been ofthis type.  The peasant had to decide whether a garment was worthmending, and the king whether or not to invade his neighbor, butneither was expected to invent anything.  In principle they couldhave; the king could have invented firearms, then invaded hisneighbor.  But in practice innovations were so rare that they weren'texpected of you, any more than goalkeepers are expected to scoregoals. [9]In practice, it seemed as if there was a correct decisionin every situation, and if you made it you'd done your job perfectly,just as a goalkeeper who prevents the other team from scoring isconsidered to have played a perfect game.In this world, wisdom seemed paramount.  [10]Even now, most peopledo work in which problems are put before them and they have tochoose the best alternative.  But as knowledge has grown morespecialized, there are more and more types of work in which peoplehave to make up new things, and in which performance is thereforeunbounded.  Intelligence has become increasingly important relativeto wisdom because there is more room for spikes.RecipesAnother sign we may have to choose between intelligence and wisdomis how different their recipes are.  Wisdom seems to come largelyfrom curing childish qualities, and intelligence largely fromcultivating them.Recipes for wisdom, particularly ancient ones, tend to have aremedial character.  To achieve wisdom one must cut away all thedebris that fills one's head on emergence from childhood, leavingonly the important stuff.  Both self-control and experience havethis effect: to eliminate the random biases that come from your ownnature and from the circumstances of your upbringing respectively.That's not all wisdom is, but it's a large part of it.  Much ofwhat's in the sage's head is also in the head of every twelve yearold.  The difference is that in the head of the twelve year oldit's mixed together with a lot of random junk.The path to intelligence seems to be through working on hard problems.You develop intelligence as you might develop muscles, throughexercise.  But there can't be too much compulsion here.  No amountof discipline can replace genuine curiosity.  So cultivatingintelligence seems to be a matter of identifying some bias in one'scharacter\\u2014some tendency to be interested in certain types ofthings\\u2014and nurturing it.  Instead of obliterating youridiosyncrasies in an effort to make yourself a neutral vessel forthe truth, you select one and try to grow it from a seedling intoa tree.The wise are all much alike in their wisdom, but very smart peopletend to be smart in distinctive ways.Most of our educational traditions aim at wisdom. So perhaps onereason schools work badly is that they're trying to make intelligenceusing recipes for wisdom.  Most recipes for wisdom have an elementof subjection.  At the very least, you're supposed to do what theteacher says.  The more extreme recipes aim to break down yourindividuality the way basic training does.  But that's not the routeto intelligence.  Whereas wisdom comes through humility, it mayactually help, in cultivating intelligence, to have a mistakenlyhigh opinion of your abilities, because that encourages you to keepworking.  Ideally till you realize how mistaken you were.(The reason it's hard to learn new skills late in life is not justthat one's brain is less malleable.  Another probably even worseobstacle is that one has higher standards.)I realize we're on dangerous ground here.  I'm not proposing theprimary goal of education should be to increase students' \\\"self-esteem.\\\"That just breeds laziness.  And in any case, it doesn't really foolthe kids, not the smart ones.  They can tell at a young age that acontest where everyone wins is a fraud.A teacher has to walk a narrow path: you want to encourage kids tocome up with things on their own, but you can't simply applaudeverything they produce.  You have to be a good audience: appreciative,but not too easily impressed.  And that's a lot of work.  You haveto have a good enough grasp of kids' capacities at different agesto know when to be surprised.That's the opposite of traditional recipes for education.  Traditionallythe student is the audience, not the teacher; the student's job isnot to invent, but to absorb some prescribed body of material.  (Theuse of the term \\\"recitation\\\" for sections in some colleges is afossil of this.) The problem with these old traditions is thatthey're too much influenced by recipes for wisdom.DifferentI deliberately gave this essay a provocative title; of course it'sworth being wise.  But I think it's important to understand therelationship between intelligence and wisdom, and particularly whatseems to be the growing gap between them.  That way we can avoidapplying rules and standards to intelligence that are really meantfor wisdom.  These two senses of \\\"knowing what to do\\\" are moredifferent than most people realize.  The path to wisdom is throughdiscipline, and the path to intelligence through carefully selectedself-indulgence.  Wisdom is universal, and intelligence idiosyncratic.And while wisdom yields calmness, intelligence much of the timeleads to discontentment.That's particularly worth remembering.  A physicist friend recentlytold me half his department was on Prozac.  Perhaps if we acknowledgethat some amount of frustration is inevitable in certain kindsof work, we can mitigate its effects.  Perhaps we can box it up andput it away some of the time, instead of letting it flow togetherwith everyday sadness to produce what seems an alarmingly largepool.  At the very least, we can avoid being discontented aboutbeing discontented.If you feel exhausted, it's not necessarily because there's somethingwrong with you.  Maybe you're just running fast.Notes[1]Gauss was supposedly asked this when he was 10.  Instead oflaboriously adding together the numbers like the other students,he saw that they consisted of 50 pairs that each summed to 101 (100+ 1, 99 + 2, etc), and that he could just multiply 101 by 50 to getthe answer, 5050.[2]A variant is that intelligence is the ability to solve problems,and wisdom the judgement to know how to use those solutions.   Butwhile this is certainly an important relationship between wisdomand intelligence, it's not the distinction between them.  Wisdomis useful in solving problems too, and intelligence can help indeciding what to do with the solutions.[3]In judging both intelligence and wisdom we have to factor outsome knowledge. People who know the combination of a safe will bebetter at opening it than people who don't, but no one would saythat was a test of intelligence or wisdom.But knowledge overlaps with wisdom and probably also intelligence.A knowledge of human nature is certainly part of wisdom.  So wheredo we draw the line?Perhaps the solution is to discount knowledge that at some pointhas a sharp drop in utility.  For example, understanding Frenchwill help you in a large number of situations, but its value dropssharply as soon as no one else involved knows French.  Whereas thevalue of understanding vanity would decline more gradually.The knowledge whose utility drops sharply is the kind that haslittle relation to other knowledge.  This includes mere conventions,like languages and safe combinations, and also what we'd call\\\"random\\\" facts, like movie stars' birthdays, or how to distinguish1956 from 1957 Studebakers.[4]People seeking some single thing called \\\"wisdom\\\" have beenfooled by grammar.  Wisdom is just knowing the right thing to do,and there are a hundred and one different qualities that help inthat.  Some, like selflessness, might come from meditating in anempty room, and others, like a knowledge of human nature, mightcome from going to drunken parties.Perhaps realizing this will help dispel the cloud of semi-sacredmystery that surrounds wisdom in so many people's eyes.  The mysterycomes mostly from looking for something that doesn't exist.  Andthe reason there have historically been so many different schoolsof thought about how to achieve wisdom is that they've focused ondifferent components of it.When I use the word \\\"wisdom\\\" in this essay, I mean no more thanwhatever collection of qualities helps people make the right choicein a wide variety of situations.[5]Even in English, our sense of the word \\\"intelligence\\\" issurprisingly recent.  Predecessors like \\\"understanding\\\" seem tohave had a broader meaning.[6]There is of course some uncertainty about how closely the remarksattributed to Confucius and Socrates resemble their actual opinions.I'm using these names as we use the name \\\"Homer,\\\" to mean thehypothetical people who said the things attributed to them.[7]Analects VII:36, Fung trans.Some translators use \\\"calm\\\" instead of \\\"happy.\\\"  One source ofdifficulty here is that present-day English speakers have a differentidea of happiness from many older societies.  Every language probablyhas a word meaning \\\"how one feels when things are going well,\\\" butdifferent cultures react differently when things go well.  We reactlike children, with smiles and laughter.  But in a more reservedsociety, or in one where life was tougher, the reaction might be aquiet contentment.[8]It may have been Andrew Wiles, but I'm not sure.  If anyoneremembers such an interview, I'd appreciate hearing from you.[9]Confucius claimed proudly that he had never inventedanything\\u2014that he had simply passed on an accurate account ofancient traditions.  [Analects VII:1] It's hard for us now toappreciate how important a duty it must have been in preliteratesocieties to remember and pass on the group's accumulated knowledge.Even in Confucius's time it still seems to have been the first dutyof the scholar.[10]The bias toward wisdom in ancient philosophy may be exaggeratedby the fact that, in both Greece and China, many of the firstphilosophers (including Confucius and Plato) saw themselves asteachers of administrators, and so thought disproportionately aboutsuch matters.  The few people who did invent things, like storytellers,must have seemed an outlying data point that could be ignored.Thanks to Trevor Blackwell, Sarah Harlin, Jessica Livingston,and Robert Morris for reading drafts of this.\",\n          \"January 2015No one, VC or angel, has invested in more of the top startups thanRon Conway.  He knows what happened in every deal in the Valley,half the time because he arranged it.And yet he's a super nice guy.  In fact, nice is not the word.Ronco is good. I know of zero instances in which he has behavedbadly.  It's hard even to imagine.When I first came to Silicon Valley I thought \\\"How lucky that someoneso powerful is so benevolent.\\\"  But gradually I realized it wasn'tluck.  It was by being benevolent that Ronco became so powerful.All the deals he gets to invest in come to him through referrals.Google did. Facebook did. Twitter was a referral from Evan Williamshimself.  And the reason so many people refer deals to him is thathe's proven himself to be a good guy.Good does not mean being a pushover.  I would not want to face anangry Ronco.  But if Ron's angry at you, it's because you didsomething wrong.  Ron is so old school he's Old Testament.  He willsmite you in his just wrath, but there's no malice in it.In almost every domain there are advantages to seeming good.  Itmakes people trust you.  But actually being good is an expensiveway to seem good.  To an amoral person it might seem to be overkill.In some fields it might be, but apparently not in the startup world.Though plenty of investors are jerks, there is a clear trend amongthem: the most successful investors are also the most upstanding. [1]It was not always this way.  I would not feel confident saying thatabout investors twenty years ago.What changed?  The startup world became more transparent and moreunpredictable.  Both make it harder to seem good without actuallybeing good.It's obvious why transparency has that effect.  When an investormaltreats a founder now, it gets out.  Maybe not all the way to thepress, but other founders hear about it, and that investorstarts to lose deals. [2]The effect of unpredictability is more subtle.  It increases thework of being inconsistent.  If you're going to be two-faced, youhave to know who you should be nice to and who you can get awaywith being nasty to.  In the startup world, things change so rapidlythat you can't tell.  The random college kid you talk to today mightin a couple years be the CEO of the hottest startup in the Valley.If you can't tell who to be nice to, you have to be nice to everyone.And probably the only people who can manage that are the people whoare genuinely good.In a sufficiently connected and unpredictable world, you can't seemgood without being good.As often happens, Ron discovered how to be the investor of thefuture by accident.  He didn't foresee the future of startupinvesting, realize it would pay to be upstanding, and force himselfto behave that way. It would feel unnatural to him to behave anyother way.  He was already living in the future.Fortunately that future is not limited to the startup world.  Thestartup world is more transparent and unpredictable than most, butalmost everywhere the trend is in that direction.Notes[1]I'm not saying that if you sort investors by benevolenceyou've also sorted them by returns, but rather that if you do ascatterplot with benevolence on the x axis and returns on the y,you'd see a clear upward trend.[2]Y Combinator in particular, because it aggregates datafrom so many startups, has a pretty comprehensive view ofinvestor behavior.Thanks to Sam Altman and Jessica Livingston for reading drafts ofthis.\"\n        ],\n        \"semantic_type\": \"\",\n        \"description\": \"\"\n      }\n    },\n    {\n      \"column\": \"Title of Essay\",\n      \"properties\": {\n        \"dtype\": \"string\",\n        \"num_unique_values\": 5,\n        \"samples\": [\n          \"Being a Noob\",\n          \"Is It Worth Being Wise?\",\n          \"The Ronco Principle\"\n        ],\n        \"semantic_type\": \"\",\n        \"description\": \"\"\n      }\n    }\n  ]\n}"
            }
          },
          "metadata": {},
          "execution_count": 16
        }
      ]
    },
    {
      "cell_type": "code",
      "source": [
        "# Remove the 'title_of_essay' column from the DataFrame\n",
        "df.drop(['Title of Essay'], axis=1, inplace=True)"
      ],
      "metadata": {
        "id": "si6K3yFmVGMw"
      },
      "execution_count": 17,
      "outputs": []
    },
    {
      "cell_type": "code",
      "source": [
        "# Access the content of the second essay in the DataFrame\n",
        "essay_content = df['Essay Content'][1]"
      ],
      "metadata": {
        "id": "cxqd0rDk7cdK"
      },
      "execution_count": 18,
      "outputs": []
    },
    {
      "cell_type": "code",
      "source": [
        "# Remove newline characters from the 'Essay Content' column\n",
        "df['Essay Content'] = df['Essay Content'].str.replace('\\n', '')"
      ],
      "metadata": {
        "id": "qh6mY5kBePWP"
      },
      "execution_count": 19,
      "outputs": []
    },
    {
      "cell_type": "code",
      "source": [
        "# Load the spaCy English language model for tokenization\n",
        "import spacy\n",
        "nlp = spacy.load(\"en_core_web_sm\")"
      ],
      "metadata": {
        "id": "UP_Qa6X3F2zZ"
      },
      "execution_count": 20,
      "outputs": []
    },
    {
      "cell_type": "code",
      "source": [
        "# Define a function to tokenize text using spaCy\n",
        "def tokenize_spacy(texts, nlp_model):\n",
        "    tokenized_texts = [nlp_model(text).text for text in texts]\n",
        "    return tokenized_texts\n",
        "\n",
        "# Tokenize the 'Essay Content' column and store the result\n",
        "df['tokenized_text'] = df['Essay Content'].apply(lambda x: tokenize_spacy([x], nlp)[0])"
      ],
      "metadata": {
        "id": "BVx5KzblF4_n"
      },
      "execution_count": 21,
      "outputs": []
    },
    {
      "cell_type": "code",
      "source": [
        "# Access the tokenized text of the second essay\n",
        "tokenized_essay = df['tokenized_text'][1]"
      ],
      "metadata": {
        "id": "sPir_KS6F5kX"
      },
      "execution_count": 22,
      "outputs": []
    },
    {
      "cell_type": "code",
      "source": [
        "# Convert the 'Essay Content' column to a list\n",
        "essay_content_list = df['Essay Content'].to_list()"
      ],
      "metadata": {
        "id": "MpsKlEMHfdfu"
      },
      "execution_count": 23,
      "outputs": []
    },
    {
      "cell_type": "code",
      "source": [
        "from reportlab.lib.pagesizes import letter\n",
        "from reportlab.lib.styles import getSampleStyleSheet\n",
        "from reportlab.platypus import SimpleDocTemplate, Paragraph, Spacer, PageBreak\n",
        "\n",
        "# Function to create a PDF from essay titles and content\n",
        "def create_pdf(essay_titles, essay_content, filename):\n",
        "    # Initialize the PDF document\n",
        "    doc = SimpleDocTemplate(filename, pagesize=letter)\n",
        "\n",
        "    # List to hold the PDF content\n",
        "    story = []\n",
        "\n",
        "    # Get predefined styles\n",
        "    styles = getSampleStyleSheet()\n",
        "\n",
        "    # Iterate through essay titles and content\n",
        "    for title, content in zip(essay_titles, essay_content):\n",
        "        # Add the essay title\n",
        "        title_paragraph = Paragraph(title, styles['Title'])\n",
        "        story.append(title_paragraph)\n",
        "\n",
        "        # Add a horizontal line below the title\n",
        "        line = Paragraph(\"<hr/>\", styles['Normal'])\n",
        "        story.append(line)\n",
        "\n",
        "        # Add spacing\n",
        "        story.append(Spacer(1, 12))\n",
        "\n",
        "        # Add the essay content\n",
        "        content_paragraph = Paragraph(content, styles['Normal'])\n",
        "        story.append(content_paragraph)\n",
        "\n",
        "        # Add more spacing\n",
        "        story.append(Spacer(1, 24))\n",
        "\n",
        "        # Add a page break after each essay\n",
        "        story.append(PageBreak())\n",
        "\n",
        "    # Generate the PDF\n",
        "    doc.build(story)\n",
        "\n",
        "# Create the PDF file\n",
        "create_pdf(blog_titles, essay_content_list, \"book.pdf\")"
      ],
      "metadata": {
        "id": "1I6h-Jv2dsh8"
      },
      "execution_count": 24,
      "outputs": []
    },
    {
      "cell_type": "code",
      "source": [],
      "metadata": {
        "id": "K6XHn9Q2kbBR"
      },
      "execution_count": null,
      "outputs": []
    }
  ]
}